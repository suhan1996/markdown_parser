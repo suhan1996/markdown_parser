{
 "cells": [
  {
   "cell_type": "code",
   "execution_count": 98,
   "metadata": {},
   "outputs": [],
   "source": [
    "from anytree import Node, RenderTree\n",
    "import markdown\n",
    "from bs4 import BeautifulSoup\n",
    "html = markdown.markdown(open(\"faq.md\").read())\n",
    "#txt = (\"\".join(BeautifulSoup(html).findAll(text=True)))\n",
    "lines_list = html.split('\\n')\n"
   ]
  },
  {
   "cell_type": "code",
   "execution_count": null,
   "metadata": {},
   "outputs": [],
   "source": [
    "\n"
   ]
  },
  {
   "cell_type": "code",
   "execution_count": 99,
   "metadata": {},
   "outputs": [],
   "source": [
    "#If you want the HTML tags, use this part of the code.\n",
    "\n",
    "# for line in lines_list:\n",
    "#     if line.find(\"<h1>\")!=-1:\n",
    "#         h1 = Node(line)\n",
    "#     elif line.find(\"<h2>\")!=-1:\n",
    "#         h2 = Node(line,parent=h1)\n",
    "#     elif line.find(\"<h3>\")!=-1:\n",
    "#         h3 = Node(line,parent = h2)\n",
    "#     else:\n",
    "#         asw = Node(line,parent = h3)"
   ]
  },
  {
   "cell_type": "code",
   "execution_count": 100,
   "metadata": {},
   "outputs": [],
   "source": [
    "#If you don't want the HTML tags, use this part of the code.\n",
    "for line in lines_list:\n",
    "    if line.find(\"<h1>\")!=-1:\n",
    "        h1 = Node(\"\".join(BeautifulSoup(line).findAll(text=True)))\n",
    "    elif line.find(\"<h2>\")!=-1:\n",
    "        h2 = Node(\"\".join(BeautifulSoup(line).findAll(text=True)),parent=h1)\n",
    "    elif line.find(\"<h3>\")!=-1:\n",
    "        h3 = Node(\"\".join(BeautifulSoup(line).findAll(text=True)),parent = h2)\n",
    "    else:\n",
    "        asw = Node(\"\".join(BeautifulSoup(line).findAll(text=True)),parent = h3)"
   ]
  },
  {
   "cell_type": "code",
   "execution_count": 101,
   "metadata": {},
   "outputs": [],
   "source": [
    "# Print Tree\n",
    "# for pre, fill, node in RenderTree(h1):\n",
    "#     print(\"%s%s\" % (pre, node.name))\n"
   ]
  },
  {
   "cell_type": "code",
   "execution_count": 103,
   "metadata": {},
   "outputs": [],
   "source": [
    "# Tree to JSON\n",
    "# from anytree.exporter import JsonExporter\n",
    "# exporter = JsonExporter(indent=2, sort_keys=False)\n",
    "# treeJSON = exporter.export(h1)\n",
    "# print(exporter.export(h1))"
   ]
  },
  {
   "cell_type": "code",
   "execution_count": 104,
   "metadata": {},
   "outputs": [
    {
     "name": "stdout",
     "output_type": "stream",
     "text": [
      "{'faq': [{'category': '1. Cannot login', 'q': '1.1 I can not login with my Wechat account', 'a': ['Wechat account that registered after 2017 will not be able to login via Web API. Learn more at https://github.com/Chatie/wechaty/issues/872', 'Solution: Wechaty support protocols other than Web API, such as pad. Learn more at https://github.com/Chatie/wechaty/issues/1296']}, {'category': '2. What wechaty cannot do on wechat', 'q': '2.1 Does wechaty support Red envelope, transfer money, moment?', 'a': ['Short answer: NO', 'Long answer:', '', \"Payment: we won't support this because this related to property security\", '@ someone in the room: we will support this in the future in solutions other than Web API.', 'Send Contact Card: we support this in ipad solution.', 'Send Share Card: we will support this in the future in solutions other than Web API.', 'Send Voice: we will support this in the future in solutions other than Web API.', \"Moment: we haven't decide yet whether to support this function\", '']}, {'category': '2. What wechaty cannot do on wechat', 'q': '2.2 Can wechaty send url rich media message?', 'a': ['Not yet at this moment, will support later', 'Related Issue：', '', 'Add support for send url rich media message', 'can wechaty send share card msg', '']}, {'category': '2. What wechaty cannot do on wechat', 'q': \"2.3 I don't know wechaty support for personal account of wechat official account\", 'a': ['At this moment, wechaty only support personal account', 'Related Issue:', '', 'Using wechaty to start a wechatOA account', '']}, {'category': '3. Others', 'q': '3.1 What is a Puppet in Wechaty', 'a': [\"The term Puppet in Wechaty is an Abstract Class for implementing protocol plugins. The plugins are the component that helps Wechaty to control the Wechat(that's the reason we call it puppet).\", 'The plugins are named XXXPuppet, like PuppetPuppeteer is using the chrome puppeteer to control the WeChat Web API via a chrome browser, PuppetPadchat is using the WebSocket protocol to connect with a Protocol Server for controlling the iPad Wechat program.']}, {'category': '3. Others', 'q': '3.2 Wechaty & Queue', 'a': ['In order not blocked by wechat, we add queue in wechaty, see more: rx-queue']}, {'category': '3. Others', 'q': \"3.3 What's the difference between wechaty and wechat4u?\", 'a': ['Wechaty can implement many wechat protocol plughins. The plugins are the component that helps Wechaty to control the Wechat. Wechaty provide same API in web, ipad, ios solutions. wechat4u is SPACELAN write as a web solution on github. Wechaty can use wechaty API call wechat 4u API', '', \"Is this right: wechaty has All api in wechat4u, but wechat 4u don't have all api wechaty has.\", '', 'No, wechaty use wechaty itself API for wechat4u. They are totally 2 different project and no one contains another.', 'You can edit here: FAQ']}]}\n"
     ]
    }
   ],
   "source": [
    "# The formatted output\n",
    "from anytree.exporter import DictExporter\n",
    "from pprint import pprint\n",
    "exporter = DictExporter()\n",
    "output = exporter.export(h1)\n",
    "faq=[]\n",
    "for i in output:\n",
    "    if i == 'children':\n",
    "        temp = output[i]\n",
    "        for t in temp:\n",
    "            cate = t['name']\n",
    "            for c in t['children']:\n",
    "                q = c['name']\n",
    "                a = [i['name'] for i in c['children']]\n",
    "                obj = {\"category\":cate,\"q\":q,\"a\":a}\n",
    "                #print(obj,'\\n')\n",
    "                faq.append(dict(obj))\n",
    "\n",
    "print({\"faq\":faq})\n",
    "#pprint(output)\n"
   ]
  },
  {
   "cell_type": "code",
   "execution_count": 105,
   "metadata": {},
   "outputs": [],
   "source": [
    "# Traverse tree here\n",
    "# from anytree import PreOrderIter\n",
    "# [node.name for node in PreOrderIter(h1)]\n"
   ]
  },
  {
   "cell_type": "code",
   "execution_count": null,
   "metadata": {},
   "outputs": [],
   "source": []
  }
 ],
 "metadata": {
  "kernelspec": {
   "display_name": "Python 3",
   "language": "python",
   "name": "python3"
  },
  "language_info": {
   "codemirror_mode": {
    "name": "ipython",
    "version": 3
   },
   "file_extension": ".py",
   "mimetype": "text/x-python",
   "name": "python",
   "nbconvert_exporter": "python",
   "pygments_lexer": "ipython3",
   "version": "3.6.8"
  }
 },
 "nbformat": 4,
 "nbformat_minor": 2
}
